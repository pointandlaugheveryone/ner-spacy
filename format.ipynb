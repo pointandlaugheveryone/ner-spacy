{
 "cells": [
  {
   "cell_type": "code",
   "execution_count": 1,
   "metadata": {},
   "outputs": [],
   "source": [
    "import numpy as np\n",
    "import pandas as pd\n",
    "\n",
    "import matplotlib.pyplot as plt\n",
    "import seaborn as sns\n",
    "\n",
    "import nltk\n",
    "import spacy\n",
    "from spacy import displacy\n",
    "from spacy.tokens import DocBin\n",
    "from tqdm import tqdm"
   ]
  },
  {
   "cell_type": "code",
   "execution_count": 3,
   "metadata": {},
   "outputs": [
    {
     "data": {
      "text/html": [
       "<div>\n",
       "<style scoped>\n",
       "    .dataframe tbody tr th:only-of-type {\n",
       "        vertical-align: middle;\n",
       "    }\n",
       "\n",
       "    .dataframe tbody tr th {\n",
       "        vertical-align: top;\n",
       "    }\n",
       "\n",
       "    .dataframe thead th {\n",
       "        text-align: right;\n",
       "    }\n",
       "</style>\n",
       "<table border=\"1\" class=\"dataframe\">\n",
       "  <thead>\n",
       "    <tr style=\"text-align: right;\">\n",
       "      <th></th>\n",
       "      <th>documents</th>\n",
       "    </tr>\n",
       "  </thead>\n",
       "  <tbody>\n",
       "    <tr>\n",
       "      <th>0</th>\n",
       "      <td>{'annotations': [{'end': 13, 'start': 3, 'tag_...</td>\n",
       "    </tr>\n",
       "    <tr>\n",
       "      <th>1</th>\n",
       "      <td>{'annotations': [{'end': 18, 'start': 3, 'tag_...</td>\n",
       "    </tr>\n",
       "    <tr>\n",
       "      <th>2</th>\n",
       "      <td>{'annotations': [{'end': 16, 'start': 3, 'tag_...</td>\n",
       "    </tr>\n",
       "    <tr>\n",
       "      <th>3</th>\n",
       "      <td>{'annotations': [{'end': 22, 'start': 3, 'tag_...</td>\n",
       "    </tr>\n",
       "    <tr>\n",
       "      <th>4</th>\n",
       "      <td>{'annotations': [{'end': 36, 'start': 13, 'tag...</td>\n",
       "    </tr>\n",
       "  </tbody>\n",
       "</table>\n",
       "</div>"
      ],
      "text/plain": [
       "                                           documents\n",
       "0  {'annotations': [{'end': 13, 'start': 3, 'tag_...\n",
       "1  {'annotations': [{'end': 18, 'start': 3, 'tag_...\n",
       "2  {'annotations': [{'end': 16, 'start': 3, 'tag_...\n",
       "3  {'annotations': [{'end': 22, 'start': 3, 'tag_...\n",
       "4  {'annotations': [{'end': 36, 'start': 13, 'tag..."
      ]
     },
     "execution_count": 3,
     "metadata": {},
     "output_type": "execute_result"
    }
   ],
   "source": [
    "data = pd.read_json('labels_new.json')\n",
    "data.head()"
   ]
  },
  {
   "cell_type": "code",
   "execution_count": 4,
   "metadata": {},
   "outputs": [
    {
     "name": "stdout",
     "output_type": "stream",
     "text": [
      "missing contents\n",
      "missing contents\n",
      "missing contents\n",
      "missing contents\n",
      "missing contents\n",
      "missing contents\n",
      "missing contents\n",
      "missing contents\n",
      "missing contents\n",
      "missing contents\n",
      "missing contents\n",
      "missing contents\n",
      "missing contents\n",
      "missing contents\n",
      "missing contents\n",
      "missing contents\n",
      "missing contents\n",
      "missing contents\n"
     ]
    }
   ],
   "source": [
    "training_data = []\n",
    "\n",
    "for document in data['documents']:\n",
    "    text = document['content']\n",
    "    \n",
    "    entities = document['annotations']\n",
    "    if len(text) < 50:\n",
    "        print('missing contents')\n",
    "        continue\n",
    "    else:\n",
    "        training_data.append({'text':text,'entities':entities})"
   ]
  },
  {
   "cell_type": "code",
   "execution_count": 5,
   "metadata": {},
   "outputs": [],
   "source": [
    "nlp = spacy.blank(\"en\") \n",
    "doc_bin = DocBin()"
   ]
  },
  {
   "cell_type": "code",
   "execution_count": 19,
   "metadata": {},
   "outputs": [
    {
     "name": "stderr",
     "output_type": "stream",
     "text": [
      "  0%|          | 0/185 [00:00<?, ?it/s]\n"
     ]
    },
    {
     "ename": "AttributeError",
     "evalue": "'NoneType' object has no attribute 'label'",
     "output_type": "error",
     "traceback": [
      "\u001b[31m---------------------------------------------------------------------------\u001b[39m",
      "\u001b[31mAttributeError\u001b[39m                            Traceback (most recent call last)",
      "\u001b[36mCell\u001b[39m\u001b[36m \u001b[39m\u001b[32mIn[19]\u001b[39m\u001b[32m, line 22\u001b[39m\n\u001b[32m     20\u001b[39m                 span = doc.char_span(start_idx=start, end_idx=end,label=\u001b[33m'\u001b[39m\u001b[33mskill-unknown\u001b[39m\u001b[33m'\u001b[39m)\n\u001b[32m     21\u001b[39m             entities.append(span)\n\u001b[32m---> \u001b[39m\u001b[32m22\u001b[39m         \u001b[43mdoc\u001b[49m\u001b[43m.\u001b[49m\u001b[43mset_ents\u001b[49m\u001b[43m(\u001b[49m\u001b[43mentities\u001b[49m\u001b[43m)\u001b[49m\n\u001b[32m     23\u001b[39m         doc_bin.add(doc)\n\u001b[32m     25\u001b[39m doc_bin.to_disk(\u001b[33m\"\u001b[39m\u001b[33mtrain.spacy\u001b[39m\u001b[33m\"\u001b[39m)\n",
      "\u001b[36mFile \u001b[39m\u001b[32m~/repos/CVdata/.venv/lib/python3.12/site-packages/spacy/tokens/doc.pyx:818\u001b[39m, in \u001b[36mspacy.tokens.doc.Doc.set_ents\u001b[39m\u001b[34m()\u001b[39m\n",
      "\u001b[31mAttributeError\u001b[39m: 'NoneType' object has no attribute 'label'"
     ]
    }
   ],
   "source": [
    "for d in tqdm(training_data):\n",
    "    text = d['text']\n",
    "    if len(text) < 50:\n",
    "        continue\n",
    "    else:\n",
    "        labels = d['entities']\n",
    "        doc = nlp.make_doc(text)\n",
    "        entities = []\n",
    "\n",
    "        for l in labels:\n",
    "            start = l['start']\n",
    "            if text[start] == ' ':\n",
    "                start +=1\n",
    "            end = l['end']\n",
    "            if text[end] == ' ':\n",
    "                end -=1\n",
    "\n",
    "            span = doc.char_span(start_idx=start, end_idx=end,label=l['tag_name'])\n",
    "            if span == None:\n",
    "                span = doc.char_span(start_idx=start, end_idx=end,label='skill-unknown')\n",
    "            entities.append(span)\n",
    "        doc.set_ents(entities)\n",
    "        doc_bin.add(doc)\n",
    "\n",
    "doc_bin.to_disk(\"train.spacy\")"
   ]
  },
  {
   "cell_type": "code",
   "execution_count": 8,
   "metadata": {},
   "outputs": [
    {
     "name": "stdout",
     "output_type": "stream",
     "text": [
      "\n",
      "\u001b[38;5;1m✘ The provided output file already exists. To force overwriting the\n",
      "config file, set the --force or -F flag.\u001b[0m\n",
      "\n"
     ]
    }
   ],
   "source": [
    "! python -m spacy init config config.cfg --lang en --pipeline ner --optimize efficiency"
   ]
  },
  {
   "cell_type": "code",
   "execution_count": 15,
   "metadata": {},
   "outputs": [
    {
     "name": "stdout",
     "output_type": "stream",
     "text": [
      "\u001b[38;5;4mℹ Saving to output directory: .\u001b[0m\n",
      "\u001b[38;5;4mℹ Using CPU\u001b[0m\n",
      "\u001b[1m\n",
      "=========================== Initializing pipeline ===========================\u001b[0m\n",
      "\u001b[38;5;2m✔ Initialized pipeline\u001b[0m\n",
      "\u001b[1m\n",
      "============================= Training pipeline =============================\u001b[0m\n",
      "\u001b[38;5;4mℹ Pipeline: ['tok2vec', 'ner']\u001b[0m\n",
      "\u001b[38;5;4mℹ Initial learn rate: 0.001\u001b[0m\n",
      "E    #       LOSS TOK2VEC  LOSS NER  ENTS_F  ENTS_P  ENTS_R  SCORE \n",
      "---  ------  ------------  --------  ------  ------  ------  ------\n",
      "  0       0          0.00    226.14    0.24    0.13    1.37    0.00\n",
      "  1     200       1149.10  12544.04   37.47   52.19   29.23    0.37\n",
      "  2     400        708.77   3834.57   63.52   72.21   56.70    0.64\n",
      "^C\n"
     ]
    }
   ],
   "source": [
    "! python -m spacy train config.cfg --output ./ --paths.train ./train.spacy --paths.dev ./train.spacy"
   ]
  },
  {
   "cell_type": "code",
   "execution_count": 10,
   "metadata": {},
   "outputs": [],
   "source": [
    "nlp_trained = spacy.load(\"model-best\")"
   ]
  },
  {
   "cell_type": "code",
   "execution_count": 12,
   "metadata": {},
   "outputs": [],
   "source": [
    "doc = nlp_trained(\n",
    "\"\"\"Objective\n",
    "\n",
    "Enthusiastic first-year Biochemistry undergraduate at the University of Wisconsin–Madison seeking a summer internship opportunity to apply laboratory knowledge, develop research skills, and contribute meaningfully to ongoing scientific work.\n",
    "Education\n",
    "\n",
    "University of Wisconsin–Madison\n",
    "Bachelor of Science in Biochemistry\n",
    "Expected Graduation: May 2028\n",
    "GPA: 3.89/4.00\n",
    "Relevant Coursework: General Chemistry I & II, Molecular Biology, Intro to Scientific Computing, Organic Chemistry (in progress)\n",
    "Experience\n",
    "\n",
    "Science Outreach Intern\n",
    "Madison Science Museum — Madison, WI\n",
    "June 2023 – August 2023\n",
    "\n",
    "    Led weekly interactive science workshops for middle school students, focusing on genetics and microbiology.\n",
    "\n",
    "    Assisted with curating and updating biology exhibits and lab experiment stations.\n",
    "\n",
    "    Collaborated with a team of 5 interns to develop educational materials under supervision of the Outreach Coordinator.\n",
    "\n",
    "    Gained experience in public speaking, scientific communication, and lesson planning.\n",
    "\n",
    "Volunteer Lab Assistant\n",
    "BioGenTech Laboratories — Milwaukee, WI\n",
    "Summer 2022 (4 weeks shadowing experience)\n",
    "\n",
    "    Observed protein purification techniques, DNA extraction protocols, and chromatography methods.\n",
    "\n",
    "    Maintained sterile lab environments and helped prepare buffer solutions and culture media.\n",
    "\n",
    "    Participated in weekly seminars on CRISPR, enzyme kinetics, and cell signaling pathways.\n",
    "\n",
    "Skills\n",
    "\n",
    "Technical Skills:\n",
    "\n",
    "    Basic lab techniques: pipetting, spectrophotometry, pH measurement, gel electrophoresis\n",
    "\n",
    "    Software: Microsoft Excel, R (beginner), Python (beginner), GraphPad Prism\n",
    "\n",
    "    Report writing and scientific documentation\n",
    "\n",
    "    Familiar with laboratory safety protocols and SDS guidelines\n",
    "\n",
    "Soft Skills:\n",
    "\n",
    "    Strong verbal and written communication\n",
    "\n",
    "    Detail-oriented and highly organized\n",
    "\n",
    "    Curious and proactive learner\n",
    "\n",
    "    Comfortable working in teams and independently\n",
    "\n",
    "    Passionate about science education and community outreach\n",
    "\n",
    "Extracurricular Activities\n",
    "\n",
    "Biochemistry Undergraduate Society\n",
    "Member, Fall 2024 – Present\n",
    "\n",
    "    Attend monthly guest speaker events and workshops on research careers.\n",
    "\n",
    "STEM Ambassadors Program\n",
    "High School Chapter President, 2022–2023\n",
    "\n",
    "    Organized peer tutoring in biology and chemistry for over 40 students.\n",
    "\n",
    "References\n",
    "\n",
    "Available upon request.\"\"\"\n",
    ")\n",
    "\n"
   ]
  },
  {
   "cell_type": "code",
   "execution_count": 14,
   "metadata": {},
   "outputs": [
    {
     "data": {
      "text/html": [
       "<span class=\"tex2jax_ignore\"><div class=\"entities\" style=\"line-height: 2.5; direction: ltr\">Objective<br><br>Enthusiastic first-year Biochemistry undergraduate at the University of Wisconsin–Madison seeking a summer internship opportunity to apply laboratory knowledge, develop research skills, and contribute meaningfully to ongoing scientific work.<br>Education<br><br>University of Wisconsin–Madison<br>Bachelor of Science in Biochemistry<br>Expected Graduation: May 2028<br>GPA: 3.89/4.00<br>Relevant Coursework: General Chemistry I &amp; II, Molecular Biology, Intro to Scientific Computing, Organic Chemistry (in progress)<br>Experience<br><br>Science Outreach Intern<br>Madison Science Museum — Madison, WI<br>June 2023 – August 2023<br><br>    Led weekly interactive science workshops for middle school students, focusing on genetics and microbiology.<br><br>    Assisted with curating and updating biology exhibits and lab experiment stations.<br><br>    Collaborated with a team of 5 interns to develop educational materials under supervision of the Outreach Coordinator.<br><br>    Gained experience in public speaking, scientific communication, and lesson planning.<br><br>Volunteer Lab Assistant<br>BioGenTech Laboratories — Milwaukee, WI<br>Summer 2022 (4 weeks shadowing experience)<br><br>    Observed protein purification techniques, DNA extraction protocols, and chromatography methods.<br><br>    Maintained sterile lab environments and helped prepare buffer solutions and culture media.<br><br>    Participated in weekly seminars on CRISPR, enzyme kinetics, and cell signaling pathways.<br><br>Skills<br><br>Technical Skills:<br><br>    Basic lab techniques: pipetting, spectrophotometry, pH measurement, gel electrophoresis<br><br>    Software: \n",
       "<mark class=\"entity\" style=\"background: #ddd; padding: 0.45em 0.6em; margin: 0 0.25em; line-height: 1; border-radius: 0.35em;\">\n",
       "    Microsoft Excel\n",
       "    <span style=\"font-size: 0.8em; font-weight: bold; line-height: 1; border-radius: 0.35em; vertical-align: middle; margin-left: 0.5rem\">jobSkill</span>\n",
       "</mark>\n",
       ", R (beginner), Python (beginner), GraphPad Prism<br><br>    Report writing and scientific documentation<br><br>    Familiar with laboratory safety protocols and SDS guidelines<br><br>Soft Skills:<br><br>    Strong verbal and written communication<br><br>    Detail-oriented and highly organized<br><br>    Curious and proactive learner<br><br>    Comfortable working in teams and independently<br><br>    Passionate about science education and community outreach<br><br>Extracurricular Activities<br><br>Biochemistry Undergraduate Society<br>Member, Fall 2024 – Present<br><br>    Attend monthly guest speaker events and workshops on research careers.<br><br>STEM Ambassadors Program<br>High School Chapter President, 2022–2023<br><br>    Organized peer tutoring in biology and chemistry for over 40 students.<br><br>References<br><br>Available upon request.</div></span>"
      ],
      "text/plain": [
       "<IPython.core.display.HTML object>"
      ]
     },
     "metadata": {},
     "output_type": "display_data"
    }
   ],
   "source": [
    "from IPython.display import HTML, display\n",
    "html = displacy.render(doc, style=\"ent\", jupyter=False)\n",
    "display(HTML(f'<span class=\"tex2jax_ignore\">{html}</span>'))"
   ]
  }
 ],
 "metadata": {
  "kernelspec": {
   "display_name": ".venv",
   "language": "python",
   "name": "python3"
  },
  "language_info": {
   "codemirror_mode": {
    "name": "ipython",
    "version": 3
   },
   "file_extension": ".py",
   "mimetype": "text/x-python",
   "name": "python",
   "nbconvert_exporter": "python",
   "pygments_lexer": "ipython3",
   "version": "3.12.10"
  }
 },
 "nbformat": 4,
 "nbformat_minor": 2
}
