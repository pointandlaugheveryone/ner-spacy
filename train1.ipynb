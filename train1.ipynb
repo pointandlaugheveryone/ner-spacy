{
 "cells": [
  {
   "cell_type": "markdown",
   "metadata": {},
   "source": [
    "### first attempt with incomplete dataset\n",
    "- unusable due to low performance"
   ]
  },
  {
   "cell_type": "code",
   "execution_count": 2,
   "metadata": {},
   "outputs": [],
   "source": [
    "import numpy as np\n",
    "import pandas as pd\n",
    "\n",
    "import matplotlib.pyplot as plt\n",
    "from tqdm import tqdm\n",
    "import json\n",
    "from classes import Document, Annotation"
   ]
  },
  {
   "cell_type": "code",
   "execution_count": 3,
   "metadata": {},
   "outputs": [],
   "source": [
    "import spacy\n",
    "from spacy import displacy\n",
    "from spacy.tokens import DocBin"
   ]
  },
  {
   "cell_type": "code",
   "execution_count": 3,
   "metadata": {},
   "outputs": [
    {
     "data": {
      "text/html": [
       "<div>\n",
       "<style scoped>\n",
       "    .dataframe tbody tr th:only-of-type {\n",
       "        vertical-align: middle;\n",
       "    }\n",
       "\n",
       "    .dataframe tbody tr th {\n",
       "        vertical-align: top;\n",
       "    }\n",
       "\n",
       "    .dataframe thead th {\n",
       "        text-align: right;\n",
       "    }\n",
       "</style>\n",
       "<table border=\"1\" class=\"dataframe\">\n",
       "  <thead>\n",
       "    <tr style=\"text-align: right;\">\n",
       "      <th></th>\n",
       "      <th>documents</th>\n",
       "    </tr>\n",
       "  </thead>\n",
       "  <tbody>\n",
       "    <tr>\n",
       "      <th>0</th>\n",
       "      <td>{'annotations': [{'end': 13, 'id': 1, 'label':...</td>\n",
       "    </tr>\n",
       "    <tr>\n",
       "      <th>1</th>\n",
       "      <td>{'annotations': [{'end': 18, 'id': 1, 'label':...</td>\n",
       "    </tr>\n",
       "    <tr>\n",
       "      <th>2</th>\n",
       "      <td>{'annotations': [{'end': 16, 'id': 1, 'label':...</td>\n",
       "    </tr>\n",
       "    <tr>\n",
       "      <th>3</th>\n",
       "      <td>{'annotations': [{'end': 22, 'id': 1, 'label':...</td>\n",
       "    </tr>\n",
       "    <tr>\n",
       "      <th>4</th>\n",
       "      <td>{'annotations': [{'end': 36, 'id': 1, 'label':...</td>\n",
       "    </tr>\n",
       "  </tbody>\n",
       "</table>\n",
       "</div>"
      ],
      "text/plain": [
       "                                           documents\n",
       "0  {'annotations': [{'end': 13, 'id': 1, 'label':...\n",
       "1  {'annotations': [{'end': 18, 'id': 1, 'label':...\n",
       "2  {'annotations': [{'end': 16, 'id': 1, 'label':...\n",
       "3  {'annotations': [{'end': 22, 'id': 1, 'label':...\n",
       "4  {'annotations': [{'end': 36, 'id': 1, 'label':..."
      ]
     },
     "execution_count": 3,
     "metadata": {},
     "output_type": "execute_result"
    }
   ],
   "source": [
    "data = pd.read_json('labels_new.json')\n",
    "data.head()"
   ]
  },
  {
   "cell_type": "code",
   "execution_count": 4,
   "metadata": {},
   "outputs": [
    {
     "data": {
      "text/plain": [
       "[{'end': 13, 'id': 1, 'label': 'jobTitle', 'start': 3},\n",
       " {'end': 31, 'id': 2, 'label': 'jobSkill', 'start': 13},\n",
       " {'end': 501, 'id': 3, 'label': 'jobSkill', 'start': 494},\n",
       " {'end': 1023, 'id': 4, 'label': 'jobSkill', 'start': 1014},\n",
       " {'end': 1110, 'id': 5, 'label': 'jobSkill', 'start': 1084},\n",
       " {'end': 1136, 'id': 6, 'label': 'jobSkill', 'start': 1131},\n",
       " {'end': 1334, 'id': 7, 'label': 'jobTitle', 'start': 1317},\n",
       " {'end': 1542, 'id': 8, 'label': 'softSkill', 'start': 1530},\n",
       " {'end': 3350, 'id': 9, 'label': 'jobTitle', 'start': 3325},\n",
       " {'end': 5508, 'id': 10, 'label': 'jobSkill', 'start': 5498},\n",
       " {'end': 5536, 'id': 11, 'label': 'jobSkill', 'start': 5528},\n",
       " {'end': 5540, 'id': 12, 'label': 'jobSkill', 'start': 5538},\n",
       " {'end': 5547, 'id': 13, 'label': 'jobSkill', 'start': 5542},\n",
       " {'end': 5642, 'id': 14, 'label': 'jobSkill', 'start': 5632},\n",
       " {'end': 5699, 'id': 15, 'label': 'jobSkill', 'start': 5685},\n",
       " {'end': 5760, 'id': 16, 'label': 'jobSkill', 'start': 5743},\n",
       " {'end': 5779, 'id': 17, 'label': 'jobSkill', 'start': 5762},\n",
       " {'end': 5857, 'id': 18, 'label': 'jobSkill', 'start': 5851},\n",
       " {'end': 5902, 'id': 19, 'label': 'softSkill', 'start': 5893},\n",
       " {'end': 5917, 'id': 20, 'label': 'jobSkill', 'start': 5912},\n",
       " {'end': 5969, 'id': 21, 'label': 'jobSkill', 'start': 5964}]"
      ]
     },
     "execution_count": 4,
     "metadata": {},
     "output_type": "execute_result"
    }
   ],
   "source": [
    "data['documents'][0]['annotations']"
   ]
  },
  {
   "cell_type": "code",
   "execution_count": 5,
   "metadata": {},
   "outputs": [],
   "source": [
    "for document in data['documents']:\n",
    "    del document['id']\n",
    "    for ann in document['annotations']:\n",
    "        del ann['id']"
   ]
  },
  {
   "cell_type": "code",
   "execution_count": 6,
   "metadata": {},
   "outputs": [
    {
     "data": {
      "text/plain": [
       "{'annotations': [{'end': 13, 'label': 'jobTitle', 'start': 3},\n",
       "  {'end': 31, 'label': 'jobSkill', 'start': 13},\n",
       "  {'end': 501, 'label': 'jobSkill', 'start': 494},\n",
       "  {'end': 1023, 'label': 'jobSkill', 'start': 1014},\n",
       "  {'end': 1110, 'label': 'jobSkill', 'start': 1084},\n",
       "  {'end': 1136, 'label': 'jobSkill', 'start': 1131},\n",
       "  {'end': 1334, 'label': 'jobTitle', 'start': 1317},\n",
       "  {'end': 1542, 'label': 'softSkill', 'start': 1530},\n",
       "  {'end': 3350, 'label': 'jobTitle', 'start': 3325},\n",
       "  {'end': 5508, 'label': 'jobSkill', 'start': 5498},\n",
       "  {'end': 5536, 'label': 'jobSkill', 'start': 5528},\n",
       "  {'end': 5540, 'label': 'jobSkill', 'start': 5538},\n",
       "  {'end': 5547, 'label': 'jobSkill', 'start': 5542},\n",
       "  {'end': 5642, 'label': 'jobSkill', 'start': 5632},\n",
       "  {'end': 5699, 'label': 'jobSkill', 'start': 5685},\n",
       "  {'end': 5760, 'label': 'jobSkill', 'start': 5743},\n",
       "  {'end': 5779, 'label': 'jobSkill', 'start': 5762},\n",
       "  {'end': 5857, 'label': 'jobSkill', 'start': 5851},\n",
       "  {'end': 5902, 'label': 'softSkill', 'start': 5893},\n",
       "  {'end': 5917, 'label': 'jobSkill', 'start': 5912},\n",
       "  {'end': 5969, 'label': 'jobSkill', 'start': 5964}],\n",
       " 'content': '   ACCOUNTANT   Summary  To obtain a challenging and rewarding accounting position that will permit the use of my skills, knowledge and education to maximize my full potential while developing additional knowledge and abilities  Highlights   SAP AS400 CAMS Microsoft Office Suite     Experience   01/2013 to 03/2014   Accountant  Company Name － City  , State  Approved and set up new capital jobs into JDE Entering all new assets into JDE and CAMS (upon completion of job) Keeping track of spending to ensure budget compliance Maintaining files for CIP and ensured proper documentation once job was completed.  2.  Finance Tag Working with admin managers to remain within budget relating to expenses Acting as a \"go-to\" person when questions and concerns arise Conducting monthly one-on-one meetings with admin managers and communicated any new policies that were to be implemented.  3.  Purchasing Cards Conducted monthly audits of VISA® purchasing cards Ensured compliance with established company policies Making use tax entries when necessary on outside purchases.  4.  Other Various Duties Entered monthly journal entries and accruals Reconciled assigned balance sheets and collect/document all balance sheets for LLC, Cargill Inc.  and GP Completed government reporting/compliance forms.   06/2012 to 12/2012   Campus Accountant  Company Name － City  , State  1.  Managing Student Accounts Processed various forms of students payments including self-payments, financial aid, military benefits and loans Monitoring the aged trial balance and sending out statements regarding past due accounts Working with students on managing their tuition balances and counseling regarding repayment options Charging correct tuition and other fees on student accounts and communicating with students about current balances on accounts.  2.  Inventory Control Ordering books, uniforms and tool kits for each new phase start Passing out all required material and maintaining accurate inventory using the just-in-time inventory method Requesting all instructor materials as needed Responsible with setting up new accounts and inventory for new automotive program.  3.  Accounts Payable Coding invoices received by the campus Processing all manual check requests Creating all purchase orders for any new orders.  4.  Various Other Accounting Duties Scheduling routine services Depositing monies in the company bank account Performing end of month duties.   12/2010 to 05/2012   Staff Accountant  Company Name － City  , State  Sales and Use Tax- KS, MO and OK Developed and implemented a new strategy in collecting/reporting monthly taxes Trained associates on new tax procedures Maintained responsibility for any necessary amended returns Worked closely with auditors during sales tax audits Monitored invoices and work orders to ensure proper codes are used Accrued tax liability for use tax Closed tax accounts for end of month/year.  2.  Fixed Assets Maintained responsibility for the rental side of the company including journal entries, inter-company transactions, depreciation, estimates, warranties and all related reconciliations Worked closely with the accountants of the other entities to ensure that inventory control is properly practiced and implemented Closed fixed asset account for end of month/year.   10/2008 to 11/2010   Senior Finance Associate  Company Name － City  , State  Invoice Processing Processed invoices for vendors as assigned Worked month statements from vendors Assisted with foreign vendors and helped monitor the changing currency rates Monitored checks that were outstanding and followed up with the proper vendor.  2.  Warranties and Returns Ensured that all warranties and returns were properly processed.  Including matching the costs of repairs compared to what was authorized with the company, making any adjusting entries and reconciling accounts.  3.  Assisted with new AP policy for payments Played an important role converting vendors to an ACH payment option in place of traditional paper checks Provided assistance to vendors who needed help navigating the new payment procedures Provided feedback to my supervisors and worked closely with them to make improvements to the new policy.   06/2006 to 09/2008   Staff Accountant  Company Name － City  , State  1.  Oversaw all aspects of accounting for 21 Beauty First retail salons Monitored inventory control procedures and tracked any material variances Worked with store associates during yearly audits and ensured accounts were reconciled Monitored open purchases orders and provided feedback on any known issues Trained new accounting assistants on the proper way to monitor their assigned stores Reconciled cost of goods at the end of each month Closed accounts for end of month/year.  2.  Bank Reconciliations Monitored deposits and verified to bank accounts Ensured credit cards balanced and processed any related fees Assisted in developing a new spreadsheet to track bank deposits Reconciled bank accounts for month/year end.  3.  Sales Tax Calculated sales tax for all markets and issued payment Monitored product that was used in the salon and accrued use tax as necessary Reconciled tax accounts for the accounting manager at the end of the month/year.    Education   1 2009   BBA    Accounting  Friends University － City  , State  , USA  GPA  GPA  3.5  Accounting GPA  3.5      Business Administration  Baker University － City  , State  , USA  GPA  GPA  3.63  Business Administration GPA  3.63    Skills  Accounting, Accounts Payable, accruals, AP, AS400, automotive, trial balance, balance sheets, Bank Reconciliations, benefits, budget, counseling, credit, documentation, Finance, financial, Fixed Assets, forms, government, instructor, inventory, inventory control, Inventory Control, JDE, Managing, materials, meetings, Microsoft Office Suite, policies, Coding, Purchasing, reconciling, repairs, reporting, retail, Sales, SAP, Scheduling, spreadsheet, strategy, Tax, taxes, year end '}"
      ]
     },
     "execution_count": 6,
     "metadata": {},
     "output_type": "execute_result"
    }
   ],
   "source": [
    "data['documents'][0]"
   ]
  },
  {
   "cell_type": "code",
   "execution_count": 31,
   "metadata": {},
   "outputs": [
    {
     "name": "stdout",
     "output_type": "stream",
     "text": [
      "missing contents {''} {'jobTitle'}\n",
      "missing contents {''} {'jobTitle'}\n",
      "missing contents {''} {'jobTitle'}\n",
      "missing contents {''} {'jobTitle'}\n",
      "missing contents {''} {'jobTitle'}\n",
      "missing contents {''} {'jobTitle'}\n",
      "missing contents {''} {'jobTitle'}\n",
      "missing contents {''} {'jobTitle'}\n",
      "missing contents {''} {'jobTitle'}\n",
      "missing contents {''} {'jobTitle'}\n",
      "missing contents {''} {'jobTitle'}\n",
      "missing contents {''} {'jobTitle'}\n",
      "missing contents {''} {'jobTitle'}\n",
      "missing contents {''} {'jobTitle'}\n",
      "missing contents {''} {'jobTitle'}\n",
      "missing contents {''} {'jobTitle'}\n",
      "missing contents {''} {'jobTitle'}\n",
      "missing contents {''} {'jobTitle'}\n"
     ]
    }
   ],
   "source": [
    "training_data = []\n",
    "\n",
    "for document in data['documents']:\n",
    "    if len(document['content']) < 1:\n",
    "        print(f'missing contents', {document['content']},{document['annotations'][0]['label']})\n",
    "        continue\n",
    "    else:\n",
    "        text = document['content']\n",
    "        entities = document['annotations']\n",
    "        training_data.append({'text':text,'entities':entities})"
   ]
  },
  {
   "cell_type": "code",
   "execution_count": 21,
   "metadata": {},
   "outputs": [],
   "source": [
    "nlp = spacy.blank(\"en\") \n",
    "doc_bin = DocBin()"
   ]
  },
  {
   "cell_type": "code",
   "execution_count": null,
   "metadata": {},
   "outputs": [],
   "source": [
    "doc_count = len(training_data)\n",
    "for d in training_data:\n",
    "    label_count = len(d['entities'])\n",
    "    print(label_count)"
   ]
  },
  {
   "cell_type": "code",
   "execution_count": 41,
   "metadata": {},
   "outputs": [
    {
     "name": "stderr",
     "output_type": "stream",
     "text": [
      "100%|██████████| 185/185 [00:00<00:00, 227.52it/s]"
     ]
    },
    {
     "name": "stdout",
     "output_type": "stream",
     "text": [
      "0\n"
     ]
    },
    {
     "name": "stderr",
     "output_type": "stream",
     "text": [
      "\n"
     ]
    }
   ],
   "source": [
    "nonecount = 0\n",
    "\n",
    "for d in tqdm(training_data):\n",
    "    text = d['text']\n",
    "    labels = d['entities']\n",
    "    doc = nlp.make_doc(text)\n",
    "    entities = []\n",
    "\n",
    "    for l in labels:\n",
    "        start = l['start']\n",
    "        if text[start] == ' ':\n",
    "            start +=1\n",
    "        end = l['end']\n",
    "        if text[end] == ' ':\n",
    "            end -=1\n",
    "        label = l['label']\n",
    "\n",
    "        span = doc.char_span(start_idx=start, end_idx=end,label=label,alignment_mode='expand')\n",
    "        if span == None:\n",
    "            nonecount += 1\n",
    "            continue\n",
    "        entities.append(span)\n",
    "    \n",
    "print(nonecount)"
   ]
  },
  {
   "cell_type": "code",
   "execution_count": 42,
   "metadata": {},
   "outputs": [],
   "source": [
    "doc.set_ents(entities)\n",
    "doc_bin.add(doc)\n",
    "doc_bin.to_disk(\"train.spacy\")"
   ]
  },
  {
   "cell_type": "code",
   "execution_count": 43,
   "metadata": {},
   "outputs": [
    {
     "name": "stdout",
     "output_type": "stream",
     "text": [
      "\u001b[38;5;4mℹ Generated config template specific for your use case\u001b[0m\n",
      "- Language: en\n",
      "- Pipeline: ner\n",
      "- Optimize for: efficiency\n",
      "- Hardware: CPU\n",
      "- Transformer: None\n",
      "\u001b[38;5;2m✔ Auto-filled config with all values\u001b[0m\n",
      "\u001b[38;5;2m✔ Saved config\u001b[0m\n",
      "config.cfg\n",
      "You can now add your data and train your pipeline:\n",
      "python -m spacy train config.cfg --paths.train ./train.spacy --paths.dev ./dev.spacy\n"
     ]
    }
   ],
   "source": [
    "! python -m spacy init config config.cfg --lang en --pipeline ner --optimize efficiency"
   ]
  },
  {
   "cell_type": "code",
   "execution_count": 44,
   "metadata": {},
   "outputs": [
    {
     "name": "stdout",
     "output_type": "stream",
     "text": [
      "\u001b[38;5;4mℹ Saving to output directory: .\u001b[0m\n",
      "\u001b[38;5;4mℹ Using CPU\u001b[0m\n",
      "\u001b[1m\n",
      "=========================== Initializing pipeline ===========================\u001b[0m\n",
      "\u001b[38;5;2m✔ Initialized pipeline\u001b[0m\n",
      "\u001b[1m\n",
      "============================= Training pipeline =============================\u001b[0m\n",
      "\u001b[38;5;4mℹ Pipeline: ['tok2vec', 'ner']\u001b[0m\n",
      "\u001b[38;5;4mℹ Initial learn rate: 0.001\u001b[0m\n",
      "E    #       LOSS TOK2VEC  LOSS NER  ENTS_F  ENTS_P  ENTS_R  SCORE \n",
      "---  ------  ------------  --------  ------  ------  ------  ------\n",
      "  0       0          0.00    220.07    0.00    0.00    0.00    0.00\n",
      "  0     200       2658.09  12968.38   45.06   47.11   43.18    0.45\n",
      "  0     400        462.55   3361.68   60.90   56.00   66.76    0.61\n",
      "  1     600        381.10   2917.59   75.93   77.86   74.09    0.76\n",
      "  1     800        439.43   2299.82   79.84   75.40   84.83    0.80\n",
      "  2    1000        474.82   1850.35   73.80   88.68   63.20    0.74\n",
      "  2    1200        583.66   1890.21   84.11   83.40   84.83    0.84\n",
      "  3    1400        576.72   1677.59   87.06   87.54   86.59    0.87\n",
      "  3    1600        603.24   1383.61   88.73   87.29   90.23    0.89\n",
      "  4    1800        713.71   1396.40   90.00   91.14   88.88    0.90\n",
      "  4    2000        761.72   1053.06   89.30   86.67   92.11    0.89\n",
      "  4    2200        860.04   1322.62   91.09   88.99   93.29    0.91\n",
      "  5    2400        912.10   1202.58   91.10   93.20   89.09    0.91\n",
      "  5    2600        872.91    862.12   92.54   91.79   93.31    0.93\n",
      "  6    2800       1237.56   1085.06   92.95   93.80   92.11    0.93\n",
      "  6    3000        840.88    747.39   92.68   92.00   93.36    0.93\n",
      "  7    3200       1256.55   1185.11   93.02   91.15   94.97    0.93\n",
      "  7    3400       1115.95    794.32   93.25   91.79   94.77    0.93\n",
      "  8    3600       1044.25    834.60   93.48   94.00   92.96    0.93\n",
      "  8    3800       1296.51    923.37   93.55   93.56   93.55    0.94\n",
      "  8    4000       1030.69    710.12   94.37   93.03   95.76    0.94\n",
      "  9    4200       1356.37    851.95   94.01   95.16   92.90    0.94\n",
      "  9    4400       1264.48    684.65   94.47   95.14   93.80    0.94\n",
      " 10    4600       1393.07    626.22   93.88   96.15   91.71    0.94\n",
      " 10    4800       1767.81    807.09   94.73   94.23   95.24    0.95\n",
      " 11    5000       1573.56    762.98   94.91   94.72   95.10    0.95\n",
      " 11    5200       1462.02    628.99   94.79   94.97   94.61    0.95\n",
      " 12    5400       1555.40    702.12   95.18   94.30   96.08    0.95\n",
      " 12    5600       1831.81    722.11   95.52   95.70   95.33    0.96\n",
      " 12    5800       1443.10    584.25   94.84   94.35   95.33    0.95\n",
      " 13    6000       1596.49    451.93   95.38   96.79   94.01    0.95\n",
      " 13    6200       1642.59    636.86   94.52   97.46   91.74    0.95\n",
      " 14    6400       2533.36    726.67   95.63   95.63   95.63    0.96\n",
      " 14    6600       1811.82    636.17   95.87   96.90   94.86    0.96\n",
      " 15    6800       1415.84    478.77   95.84   95.59   96.09    0.96\n",
      " 15    7000       2023.55    579.84   95.81   96.07   95.54    0.96\n",
      " 16    7200       1783.88    554.67   95.05   94.53   95.59    0.95\n",
      " 16    7400       2241.51    650.13   95.64   96.25   95.03    0.96\n",
      " 16    7600       2086.18    490.70   95.72   96.50   94.95    0.96\n",
      " 17    7800       1766.55    425.75   96.33   96.46   96.20    0.96\n",
      " 17    8000       3028.41    671.25   96.01   95.38   96.65    0.96\n",
      " 18    8200       1751.51    383.46   96.12   95.57   96.66    0.96\n",
      " 18    8400       2386.95    660.92   96.04   96.43   95.65    0.96\n",
      " 19    8600       1921.41    419.73   96.07   95.63   96.52    0.96\n",
      " 19    8800       2358.20    528.05   95.68   95.99   95.38    0.96\n",
      " 20    9000       2071.57    465.84   96.21   95.41   97.03    0.96\n",
      " 20    9200       2195.19    448.18   96.47   96.47   96.46    0.96\n",
      " 20    9400       3201.19    596.00   96.52   97.10   95.94    0.97\n",
      " 21    9600       2474.20    405.49   96.56   96.66   96.46    0.97\n",
      " 21    9800       3593.09    490.27   96.41   97.23   95.60    0.96\n",
      " 22   10000       2558.50    494.92   96.40   97.57   95.26    0.96\n",
      " 22   10200       3485.67    602.69   96.28   95.59   96.98    0.96\n",
      " 23   10400       2166.75    382.68   96.68   98.08   95.32    0.97\n",
      " 23   10600       2744.39    383.66   96.36   97.74   95.02    0.96\n",
      " 24   10800       2655.91    471.97   96.49   96.85   96.14    0.96\n",
      " 24   11000       2630.50    403.93   96.13   97.37   94.92    0.96\n",
      " 25   11200       3266.92    548.66   96.56   97.52   95.62    0.97\n",
      " 25   11400       4009.82    448.39   95.75   97.49   94.07    0.96\n",
      " 25   11600       3039.00    502.23   96.93   97.22   96.65    0.97\n",
      " 26   11800       2557.79    366.80   96.69   97.92   95.49    0.97\n",
      " 26   12000       3029.07    486.64   96.75   97.74   95.78    0.97\n",
      " 27   12200       5148.88    541.68   96.36   95.70   97.04    0.96\n",
      " 27   12400       2809.41    391.67   96.80   97.57   96.05    0.97\n",
      " 28   12600       2724.05    339.75   96.93   97.73   96.14    0.97\n",
      " 28   12800       2948.51    368.06   97.13   97.68   96.58    0.97\n",
      " 29   13000       3201.71    451.81   96.73   98.16   95.33    0.97\n",
      " 29   13200       3559.48    351.25   96.74   97.40   96.09    0.97\n",
      " 29   13400       6108.25    560.78   96.45   95.86   97.04    0.96\n",
      " 30   13600       2443.49    255.48   95.86   94.01   97.79    0.96\n",
      " 30   13800       3549.20    397.28   97.07   98.08   96.08    0.97\n",
      " 31   14000       3435.92    458.58   96.76   98.02   95.52    0.97\n",
      " 31   14200       5171.84    463.29   96.75   97.62   95.90    0.97\n",
      " 32   14400       3809.96    384.90   97.00   97.22   96.77    0.97\n",
      "\u001b[38;5;2m✔ Saved pipeline to output directory\u001b[0m\n",
      "model-last\n"
     ]
    }
   ],
   "source": [
    "! python -m spacy train config.cfg --output ./ --paths.train ./train.spacy --paths.dev ./train.spacy"
   ]
  },
  {
   "cell_type": "code",
   "execution_count": 1,
   "metadata": {},
   "outputs": [
    {
     "ename": "NameError",
     "evalue": "name 'spacy' is not defined",
     "output_type": "error",
     "traceback": [
      "\u001b[31m---------------------------------------------------------------------------\u001b[39m",
      "\u001b[31mNameError\u001b[39m                                 Traceback (most recent call last)",
      "\u001b[36mCell\u001b[39m\u001b[36m \u001b[39m\u001b[32mIn[1]\u001b[39m\u001b[32m, line 1\u001b[39m\n\u001b[32m----> \u001b[39m\u001b[32m1\u001b[39m nlp_trained = \u001b[43mspacy\u001b[49m.load(\u001b[33m\"\u001b[39m\u001b[33mmodel-best\u001b[39m\u001b[33m\"\u001b[39m)\n",
      "\u001b[31mNameError\u001b[39m: name 'spacy' is not defined"
     ]
    }
   ],
   "source": [
    "nlp_trained = spacy.load(\"model-best\")"
   ]
  },
  {
   "cell_type": "code",
   "execution_count": null,
   "metadata": {},
   "outputs": [],
   "source": [
    "with open('test.txt', 'r') as f:\n",
    "    text = f.read()\n",
    "doc = text\n"
   ]
  },
  {
   "cell_type": "code",
   "execution_count": 47,
   "metadata": {},
   "outputs": [
    {
     "data": {
      "text/html": [
       "<span class=\"tex2jax_ignore\"><div class=\"entities\" style=\"line-height: 2.5; direction: ltr\">Objective<br><br>Enthusiastic first-year Biochemistry undergraduate at the University of Wisconsin–Madison seeking a summer internship opportunity to apply laboratory knowledge, develop research skills, and contribute meaningfully to ongoing scientific work.<br>Education<br><br>University of Wisconsin–Madison<br>Bachelor of Science in Biochemistry<br>Expected Graduation: May 2028<br>GPA: 3.89/4.00<br>Relevant Coursework: General Chemistry I &amp; II, Molecular Biology, Intro to Scientific Computing, Organic Chemistry (in progress)<br>Experience<br><br>Science Outreach Intern<br>Madison Science Museum — Madison, WI<br>June 2023 – August 2023<br><br>    Led weekly interactive science workshops for middle school students, focusing on genetics and microbiology.<br><br>    Assisted with curating and updating biology exhibits and lab experiment stations.<br><br>    Collaborated with a team of 5 interns to develop educational materials under supervision of the Outreach Coordinator.<br><br>    Gained experience in public speaking, scientific communication, and lesson \n",
       "<mark class=\"entity\" style=\"background: #ddd; padding: 0.45em 0.6em; margin: 0 0.25em; line-height: 1; border-radius: 0.35em;\">\n",
       "    planning\n",
       "    <span style=\"font-size: 0.8em; font-weight: bold; line-height: 1; border-radius: 0.35em; vertical-align: middle; margin-left: 0.5rem\">softSkill</span>\n",
       "</mark>\n",
       ".<br><br>Volunteer Lab Assistant<br>BioGenTech Laboratories — Milwaukee, WI<br>Summer 2022 (4 weeks shadowing experience)<br><br>    Observed protein purification techniques, DNA extraction protocols, and chromatography methods.<br><br>    Maintained sterile lab environments and helped prepare buffer solutions and culture media.<br><br>    Participated in weekly seminars on CRISPR, enzyme kinetics, and cell signaling pathways.<br><br>Skills<br><br>Technical Skills:<br><br>    Basic lab techniques: pipetting, spectrophotometry, \n",
       "<mark class=\"entity\" style=\"background: #ddd; padding: 0.45em 0.6em; margin: 0 0.25em; line-height: 1; border-radius: 0.35em;\">\n",
       "    pH measurement\n",
       "    <span style=\"font-size: 0.8em; font-weight: bold; line-height: 1; border-radius: 0.35em; vertical-align: middle; margin-left: 0.5rem\">jobSkill</span>\n",
       "</mark>\n",
       ", gel electrophoresis<br><br>    Software: \n",
       "<mark class=\"entity\" style=\"background: #ddd; padding: 0.45em 0.6em; margin: 0 0.25em; line-height: 1; border-radius: 0.35em;\">\n",
       "    Microsoft Excel\n",
       "    <span style=\"font-size: 0.8em; font-weight: bold; line-height: 1; border-radius: 0.35em; vertical-align: middle; margin-left: 0.5rem\">jobSkill</span>\n",
       "</mark>\n",
       ", R (beginner), Python (beginner), GraphPad Prism<br><br>    Report writing and scientific documentation<br><br>    Familiar with laboratory safety protocols and SDS guidelines<br><br>Soft Skills:<br><br>    Strong verbal and written communication<br><br>    Detail-oriented and highly organized<br><br>    Curious and proactive learner<br><br>    Comfortable working in teams and independently<br><br>    Passionate about science education and community outreach<br><br>Extracurricular Activities<br><br>Biochemistry Undergraduate Society<br>Member, Fall 2024 – Present<br><br>    Attend monthly guest speaker events and workshops on research careers.<br><br>STEM Ambassadors Program<br>High School Chapter President, 2022–2023<br><br>    Organized peer tutoring in biology and chemistry for over 40 students.<br><br>References<br><br>Available upon request.</div></span>"
      ],
      "text/plain": [
       "<IPython.core.display.HTML object>"
      ]
     },
     "metadata": {},
     "output_type": "display_data"
    }
   ],
   "source": [
    "from IPython.display import HTML, display\n",
    "html = displacy.render(doc, style=\"ent\", jupyter=False)\n",
    "display(HTML(f'<span class=\"tex2jax_ignore\">{html}</span>'))"
   ]
  },
  {
   "cell_type": "markdown",
   "metadata": {},
   "source": [
    "Data generation operation failed\n",
    " error details: AOAI resource authorization failed:\n",
    "  Response: Forbidden, message: \n",
    "  {\"error\":\n",
    "  {\"code\":\"AuthorizationFailed\",\n",
    "  \"message\":\n",
    "    \"The client '007a9b5a-127f-4ae3-956a-6e0f29ec89ae' with object id '007a9b5a-127f-4ae3-956a-6e0f29ec89ae' does not have authorization to perform action 'Microsoft.CognitiveServices/accounts/listKeys/action' over scope '/subscriptions/aab34b8c-b2d8-42f1-af9b-72404d4d2e69/resourceGroups/cvbutbetter/providers/Microsoft.CognitiveServices/accounts/labellm' or the scope is invalid. If access was recently granted, please refresh your credentials.\"}} "
   ]
  }
 ],
 "metadata": {
  "kernelspec": {
   "display_name": ".venv",
   "language": "python",
   "name": "python3"
  },
  "language_info": {
   "codemirror_mode": {
    "name": "ipython",
    "version": 3
   },
   "file_extension": ".py",
   "mimetype": "text/x-python",
   "name": "python",
   "nbconvert_exporter": "python",
   "pygments_lexer": "ipython3",
   "version": "3.12.10"
  }
 },
 "nbformat": 4,
 "nbformat_minor": 2
}
